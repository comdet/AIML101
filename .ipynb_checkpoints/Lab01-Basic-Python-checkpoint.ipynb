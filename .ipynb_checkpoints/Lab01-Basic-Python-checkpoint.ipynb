{
 "cells": [
  {
   "cell_type": "markdown",
   "metadata": {},
   "source": [
    "# การแสดงผลผ่าน function print \n",
    "ใน python เราสามารถแสดงข้อความง่ายผ่านคำสั่ง print\n",
    "1. function print สามารถมีได้หลาย parameter\n",
    "2. เราสามารถแสดงผลหลายบรรทัด หรือข้อความยาวๆได้ด้วยการใช้ \"\"\" ... \"\"\"\n",
    "3. การแสดงผลข้อความซ้ำ ๆ ง่ายนิดเดียวด้วยการใช้ตัว * (คูณ)\n",
    "4. การแสดงผลข้อมูลตัวแปรแบบต่าง ๆ \n",
    "5. แสดงตัวเลขจำนวนเต็ม\n",
    "6. แสดงตัวเลขทศนิยม\n",
    "7. แสดงตัวเลขฐานแปด\n",
    "8. แสดงตัวเลขฐานสิบหก\n",
    "9. แสดงตัวเลขแบบยกกำลัง\n",
    "10. การจัด format การแสดงผลตัวเลข"
   ]
  },
  {
   "cell_type": "code",
   "execution_count": null,
   "metadata": {},
   "outputs": [],
   "source": [
    "print(\"Hello World\")\n",
    "print(\"1. Hello\",\"my name is\",\"Comdet\")\n",
    "print(\"\"\"2. ภาษาไทย \n",
    "      ก็แสดงผลได้นะ\"\"\")\n",
    "print(\"3.\",\"_T\"*10)\n",
    "print(\"\"\"\n",
    "4.print data type Similarly, when using other data types\n",
    "\\t- %s -> string\n",
    "\\t- %d -> Integer\n",
    "\\t- %f -> Float\n",
    "\\t- %o -> Octal\n",
    "\\t- %x -> Hexadecimal\n",
    "\\t- %e -> exponential\n",
    "\"\"\")\n",
    "print(\"5.Actual Number = %d\" %18)\n",
    "print(\"6.Float of the number = %f and %f\" %(18 , 20.5))\n",
    "print(\"7.Octal equivalent of the number = %o\" %18)\n",
    "print(\"8.Hexadecimal equivalent of the number = %x\" %18)\n",
    "print(\"9.Exponential equivalent of the number = %e\" %18)\n",
    "print(\"10.การจัด format เลข 0 นำหน้าและจำนวนทศนิยม %012.5f\" % 3.121312312312)"
   ]
  },
  {
   "cell_type": "markdown",
   "metadata": {},
   "source": [
    "ใน python มี library ต่าง ๆ มากมาย และสามารถลงเพิ่มได้เรื่อย ๆ โดยจะเรียกใช้ library ได้นั้นจะต้องทำการ import ก่อนตามตัวอย่างด้านล่าง"
   ]
  },
  {
   "cell_type": "code",
   "execution_count": null,
   "metadata": {},
   "outputs": [],
   "source": [
    "import time\n",
    "print(time.time())\n",
    "\n",
    "import datetime\n",
    "print(datetime.datetime.now())\n",
    "\n",
    "from datetime import datetime\n",
    "print(datetime.now())\n",
    "\n",
    "from datetime import datetime as dt\n",
    "print(dt.now())"
   ]
  },
  {
   "cell_type": "markdown",
   "metadata": {},
   "source": [
    "# Variables\n",
    "\n",
    "ตัวแปรใน python สามารถประกาศได้ง่าย โดยเขียนชื่อตัวแปรได้เลย ไม่ต้องประกาศประเภท"
   ]
  },
  {
   "cell_type": "code",
   "execution_count": null,
   "metadata": {},
   "outputs": [],
   "source": [
    "x = 1\n",
    "ก = 2\n",
    "y = 'Hello'"
   ]
  },
  {
   "cell_type": "code",
   "execution_count": null,
   "metadata": {},
   "outputs": [],
   "source": [
    "print(x + ก)\n",
    "print(y)\n",
    "y = x\n",
    "print(y)"
   ]
  },
  {
   "cell_type": "markdown",
   "metadata": {},
   "source": [
    "เราสามารถกำหนดค่าให้ตัวแปรแบบนี้ได้"
   ]
  },
  {
   "cell_type": "code",
   "execution_count": null,
   "metadata": {},
   "outputs": [],
   "source": [
    "x = ก = ข = y = 5\n",
    "print(x,ก,ข,y)"
   ]
  },
  {
   "cell_type": "markdown",
   "metadata": {},
   "source": [
    "# Collection data type\n",
    "การเก็บ data collection ใน python มีหลายแบบ แต่นิยมใช้ list และ dictionary หลักๆ "
   ]
  },
  {
   "cell_type": "markdown",
   "metadata": {},
   "source": [
    "list คือการเก็บข้อมูลที่คล้าย ๆ กับ Array ในภาษาคอมพิวเตอร์อื่น ๆ โดยข้อมูลที่เก็บใน list จะเป็นรูปแบบไหนก็ได้\n",
    "การใช้งาน list ก็เพียงประกาศชื่อแล้วนำข้อมูลใน list ใส่ไว้ใน \\[ \\] เท่านั้น"
   ]
  },
  {
   "cell_type": "code",
   "execution_count": null,
   "metadata": {},
   "outputs": [],
   "source": [
    "lst = [1,2,3,4,\"5\"]\n",
    "print(lst)\n",
    "\n",
    "lst.append(6)\n",
    "print(lst)\n",
    "\n",
    "print(lst[4])\n",
    "print(len(lst))\n",
    "\n",
    "del(lst[4])\n",
    "print(lst)\n",
    "\n",
    "print(lst.pop())\n",
    "print(lst)"
   ]
  },
  {
   "cell_type": "markdown",
   "metadata": {},
   "source": [
    "ส่วนการใช้งาน dictionary ก็คล้าย ๆ กัน แต่จะเก็บข้อมูลโดยมี key เป็นตัวอ้างอิงเอาไว้สำหรับเรียกข้อมูล"
   ]
  },
  {
   "cell_type": "code",
   "execution_count": null,
   "metadata": {},
   "outputs": [],
   "source": [
    "dct = { \"apple\" : 1, \"banana\" : 2 }\n",
    "print(dct)\n",
    "print(dct[\"apple\"])\n",
    "\n",
    "dct[\"cherry\"] = \"red\"\n",
    "print(dct)\n",
    "\n",
    "dct = dict(apple=\"green\",banana=\"yello\",cherry=\"red\")\n",
    "print(dct)"
   ]
  },
  {
   "cell_type": "markdown",
   "metadata": {},
   "source": [
    "# Operator ใน python\n",
    "เป็นตัวกระทำใน python ที่คล้าย ๆ กับภาษาอื่นๆ เราสามารถ บวก ลบ คูณ หาร ตัวแปรต่าง ๆ ได้"
   ]
  },
  {
   "cell_type": "markdown",
   "metadata": {},
   "source": [
    "| Symbol | Task Performed |\n",
    "|----|---|\n",
    "| +  | Addition |\n",
    "| -  | Subtraction |\n",
    "| /  | division |\n",
    "| %  | mod |\n",
    "| *  | multiplication |\n",
    "| //  | floor division |\n",
    "| **  | to the power of |\n"
   ]
  },
  {
   "cell_type": "code",
   "execution_count": null,
   "metadata": {},
   "outputs": [],
   "source": [
    "1+2"
   ]
  },
  {
   "cell_type": "code",
   "execution_count": null,
   "metadata": {},
   "outputs": [],
   "source": [
    "1/2"
   ]
  },
  {
   "cell_type": "code",
   "execution_count": null,
   "metadata": {},
   "outputs": [],
   "source": [
    "1/2.0"
   ]
  },
  {
   "cell_type": "code",
   "execution_count": null,
   "metadata": {},
   "outputs": [],
   "source": [
    "2.8//2.0"
   ]
  },
  {
   "cell_type": "code",
   "execution_count": null,
   "metadata": {},
   "outputs": [],
   "source": [
    "2**4"
   ]
  },
  {
   "cell_type": "markdown",
   "metadata": {},
   "source": [
    "# การเปรียบเทียบใน Python \n",
    "| Symbol | Task Performed |\n",
    "|----|---|\n",
    "| == | True, if it is equal |\n",
    "| !=  | True, if not equal to |\n",
    "| < | less than |\n",
    "| > | greater than |\n",
    "| <=  | less than or equal to |\n",
    "| >=  | greater than or equal to |\n",
    "# Bit Operation\n",
    "| Symbol | Task Performed |\n",
    "|----|---|\n",
    "| &  | Logical And |\n",
    "| l  | Logical OR |\n",
    "| ^  | XOR |\n",
    "| ~  | Negate |\n",
    "| >>  | Right shift |\n",
    "| <<  | Left shift |"
   ]
  },
  {
   "cell_type": "code",
   "execution_count": null,
   "metadata": {},
   "outputs": [],
   "source": [
    "z = 1\n",
    "z == 1"
   ]
  },
  {
   "cell_type": "code",
   "execution_count": null,
   "metadata": {},
   "outputs": [],
   "source": [
    "a = 2 #10\n",
    "b = 3 #11\n",
    "print (a & b)\n",
    "print (bin(a&b))\n",
    "print(5 >> 1)"
   ]
  },
  {
   "cell_type": "markdown",
   "metadata": {},
   "source": [
    "# Condition and Loop\n",
    "การเปรียบเที่ยบและเงื่อนไขของ python นั้นจะใช้คำสั่ง if ตามลักษณะด้านล่าง โดยจะแบ่ง Block ของคำสั่งตาม indent ของคำสั่ง"
   ]
  },
  {
   "cell_type": "code",
   "execution_count": null,
   "metadata": {},
   "outputs": [],
   "source": [
    "x = 10\n",
    "y = 12\n",
    "if x > y:\n",
    "    print(\"x>y\")\n",
    "elif x < y:\n",
    "    print(\"x<y\")\n",
    "else:\n",
    "    print(\"x=y\")"
   ]
  },
  {
   "cell_type": "markdown",
   "metadata": {},
   "source": [
    "การใช้งาน loop ของ python สามารถทำได้ตามตัวอย่าง โดยถือการจัด indent เช่นกันกับ if"
   ]
  },
  {
   "cell_type": "code",
   "execution_count": null,
   "metadata": {},
   "outputs": [],
   "source": [
    "for i in range(5):\n",
    "    print(i)"
   ]
  },
  {
   "cell_type": "markdown",
   "metadata": {},
   "source": [
    "เราสามารถใช้ loop ร่วมกันกับ list ได้แบบง่ายตามตัวอย่างด้านล่าง"
   ]
  },
  {
   "cell_type": "code",
   "execution_count": null,
   "metadata": {},
   "outputs": [],
   "source": [
    "x = [27*x for x in range(1,11)]\n",
    "print(x)"
   ]
  },
  {
   "cell_type": "markdown",
   "metadata": {},
   "source": [
    "ส่วน loop ประเภท while นั้นสามารถทำได้ตามตัวอย่างด้านล่าง"
   ]
  },
  {
   "cell_type": "code",
   "execution_count": null,
   "metadata": {},
   "outputs": [],
   "source": [
    "i = 1\n",
    "while i < 3:\n",
    "    print(i ** 2)\n",
    "    i = i+1\n",
    "print('Bye')"
   ]
  },
  {
   "cell_type": "markdown",
   "metadata": {},
   "source": [
    "# Function\n",
    "ฟังก์ชั่นใน python นั้นต้องประกาศโดยใช้คำว่า def แล้วตามด้วยชื่อ function และ parameter และปิดท้ายด้วย : ตามตัวอย่างด้านล่าง"
   ]
  },
  {
   "cell_type": "code",
   "execution_count": null,
   "metadata": {},
   "outputs": [],
   "source": [
    "def times(x,y):\n",
    "    z = x*y\n",
    "    return z\n",
    "times(2,4)"
   ]
  },
  {
   "cell_type": "markdown",
   "metadata": {},
   "source": [
    "# การอ่านหรือเขียนไฟล์ใน python\n",
    "การอ่านหรือเขียนไฟล์นั้นง่ายมาก โดยจะใช้คำสั่ง open การอ่านและเขียนนั้นจะต่างกันตรง parameter ด้านหลังชื่อไฟล์โดย\n",
    "- w = write จะเป็นการเขียนไฟ์\n",
    "- w+ = write if not existing create จะเขียนไฟล์ถ้าไม่มีไฟล์นั้นจะสร้างไฟล์ขึ้นมาใหม่\n",
    "- r = อ่านไฟล์\n",
    "- a = เขียนต่อไฟล์เดิม\n",
    "- a+ = เขียนต่อไฟล์เดิมถ้าไม่มีจะสร้างไฟล์ขึ้นมาใหม่ \n",
    "\n",
    "ตัวอย่างแสดงให้เห็นในด้านล่าง"
   ]
  },
  {
   "cell_type": "code",
   "execution_count": null,
   "metadata": {},
   "outputs": [],
   "source": [
    "f = open('test_text.txt','w+')\n",
    "for i in range(10):\n",
    "    f.write('line number %d\\n'%i)\n",
    "f.close()"
   ]
  },
  {
   "cell_type": "code",
   "execution_count": null,
   "metadata": {},
   "outputs": [],
   "source": [
    "r = open('test_text.txt','r')\n",
    "text = r.read()\n",
    "r.close()\n",
    "print(text)\n",
    "\n",
    "lines = [l for l in text.split('\\n') if l]\n",
    "print(lines)\n",
    "print(lines[0])"
   ]
  },
  {
   "cell_type": "markdown",
   "metadata": {},
   "source": [
    "การเปิดไฟล์นั้นจะต้องทำการปิดไฟล์เสมอด้วยคำสั่ง close หรืออีกกรณีเราสามารถใช้ scope variable แทนได้ด้วยคำสั่ง with ทำให้ไม่ต้องปิดด้วย close ก็ได้"
   ]
  },
  {
   "cell_type": "code",
   "execution_count": null,
   "metadata": {},
   "outputs": [],
   "source": [
    "with open('test_text.txt','r') as r:\n",
    "    print(r.readline())"
   ]
  },
  {
   "cell_type": "markdown",
   "metadata": {},
   "source": [
    "# การอ่านรูปภาพ และแสดงผล\n",
    "ในการอ่านรูปภาพ และประมวลผลนั้นเราจะใช้ opencv เป็นตัวช่วย และใช้ matplotlib ในการแสดงผล โดยต้องทำการ import ตามด้านล่างก่อน"
   ]
  },
  {
   "cell_type": "code",
   "execution_count": null,
   "metadata": {},
   "outputs": [],
   "source": [
    "from matplotlib import pyplot as plt\n",
    "import cv2"
   ]
  },
  {
   "cell_type": "markdown",
   "metadata": {},
   "source": [
    "ในการอ่านภาพเข้ามาโดยใช้ opencv จะใช้คำสั่ง imread โดยภาพจะถูกจัดในแบบ BGR \n",
    "ส่วนการแสดงภาพจะใช้คำสั่ง imshow ผ่าน matplotlib ซึ่งแสดงในแบบ RGB \n",
    "ดังนั้นถ้าจะแสดงภาพให้ถูกสีต้องแปลงจาก BGR เป็น RGB ตัวอย่างแสดงให้เห็นจากโค้ดด้านล่าง"
   ]
  },
  {
   "cell_type": "code",
   "execution_count": null,
   "metadata": {},
   "outputs": [],
   "source": [
    "img = cv2.imread('pictures/dog1.jpg')\n",
    "print(img.shape)\n",
    "#Color image loaded by OpenCV is in BGR mode. \n",
    "#But Matplotlib displays in RGB mode\n",
    "img_rgb = cv2.cvtColor(img, cv2.COLOR_BGR2RGB)\n",
    "\n",
    "plt.imshow(img_rgb)"
   ]
  },
  {
   "cell_type": "markdown",
   "metadata": {},
   "source": [
    "เราสามารถประมวลผลรูปภาพผ่านคำสั่งของ opencv ได้ โดยดูตาม document ของ opencv for python ได้เลย\n",
    "https://docs.opencv.org/3.0-beta/doc/py_tutorials/py_tutorials.html"
   ]
  },
  {
   "cell_type": "code",
   "execution_count": null,
   "metadata": {},
   "outputs": [],
   "source": [
    "gray = cv2.cvtColor(img_rgb,cv2.COLOR_RGB2GRAY)\n",
    "plt.imshow(gray,cmap='gray')"
   ]
  },
  {
   "cell_type": "markdown",
   "metadata": {},
   "source": [
    "การบันทึกรูปภาพนั้นจะใช้คำสั่ง imwrite \n",
    "ตัวอย่างโค้ดด้านล่างแสดงให้เห็นการลดขนาดรูปเป็น 100x100 pixel จากนั้นบันทึกเป็นไฟล์ชื่อ dog3.jpg ใน folder pictures"
   ]
  },
  {
   "cell_type": "code",
   "execution_count": null,
   "metadata": {},
   "outputs": [],
   "source": [
    "newsize = cv2.resize(img,(100,100))\n",
    "plt.imshow(newsize)\n",
    "cv2.imwrite('pictures/dog3.jpg',newsize)"
   ]
  }
 ],
 "metadata": {
  "kernelspec": {
   "display_name": "Python 3",
   "language": "python",
   "name": "python3"
  },
  "language_info": {
   "codemirror_mode": {
    "name": "ipython",
    "version": 3
   },
   "file_extension": ".py",
   "mimetype": "text/x-python",
   "name": "python",
   "nbconvert_exporter": "python",
   "pygments_lexer": "ipython3",
   "version": "3.6.4"
  }
 },
 "nbformat": 4,
 "nbformat_minor": 2
}
